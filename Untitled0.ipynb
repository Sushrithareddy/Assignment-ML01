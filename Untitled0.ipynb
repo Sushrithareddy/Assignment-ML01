{
  "nbformat": 4,
  "nbformat_minor": 0,
  "metadata": {
    "colab": {
      "provenance": []
    },
    "kernelspec": {
      "name": "python3",
      "display_name": "Python 3"
    },
    "language_info": {
      "name": "python"
    }
  },
  "cells": [
    {
      "cell_type": "code",
      "execution_count": null,
      "metadata": {
        "id": "fuwtsJgPGgRR"
      },
      "outputs": [],
      "source": []
    },
    {
      "cell_type": "markdown",
      "source": [
        "1.The following is a list of 10 students ages:\n",
        "ages = [19, 22, 19, 24, 20, 25, 26, 24, 25, 24]\n",
        "• Sort the list and find the min and max age\n",
        "• Add the min age and the max age again to the list\n",
        "• Find the median age (one middle item or two middle items divided by two)\n",
        "• Find the average age (sum of all items divided by their number)\n",
        "• Find the range of the ages (max minus min)"
      ],
      "metadata": {
        "id": "oF8KcKynHVRm"
      }
    },
    {
      "cell_type": "code",
      "source": [
        "import statistics\n",
        "\n",
        "ages = [19, 22, 19, 24, 20, 25, 26, 24, 25, 24]\n",
        "ages.sort()\n",
        "print(f'sorted list: {ages}')\n",
        "print(f'min element: {ages[0]}, max element: {ages[-1]}')\n",
        "ages = [ages[0]] + ages + [ages[-1]]\n",
        "print(f'modified ages: {ages}')\n",
        "print(f'median of the ages: {statistics.median(ages)}')\n",
        "print(f'average of the ages: {sum(ages) // len(ages)}')\n",
        "print(f'range: {max(ages) - min(ages)}')"
      ],
      "metadata": {
        "colab": {
          "base_uri": "https://localhost:8080/"
        },
        "id": "zJgRcwbVHW3r",
        "outputId": "15afb914-308b-4cac-b704-3357164d05f4"
      },
      "execution_count": null,
      "outputs": [
        {
          "output_type": "stream",
          "name": "stdout",
          "text": [
            "sorted list: [19, 19, 20, 22, 24, 24, 24, 25, 25, 26]\n",
            "min element: 19, max element: 26\n",
            "modified ages: [19, 19, 19, 20, 22, 24, 24, 24, 25, 25, 26, 26]\n",
            "median of the ages: 24.0\n",
            "average of the ages: 22\n",
            "range: 7\n"
          ]
        }
      ]
    },
    {
      "cell_type": "code",
      "source": [],
      "metadata": {
        "id": "rqqPAsnxHUQS"
      },
      "execution_count": null,
      "outputs": []
    },
    {
      "cell_type": "markdown",
      "source": [
        "2.• Create an empty dictionary called dog\n",
        "• Add name, color, breed, legs, age to the dog dictionary\n",
        "• Create a student dictionary and add first_name, last_name, gender, age, marital status,\n",
        "skills, country, city and address as keys for the dictionary\n",
        "• Get the length of the student dictionary\n",
        "• Get the value of skills and check the data type, it should be a list\n",
        "• Modify the skills values by adding one or two skills\n",
        "• Get the dictionary keys as a list\n",
        "• Get the dictionary values as a list"
      ],
      "metadata": {
        "id": "oZatSEm9H_G0"
      }
    },
    {
      "cell_type": "code",
      "source": [
        "dog = {}\n",
        "dog[\"name\"] = \"charlie\"\n",
        "dog[\"color\"] = \"gold\"\n",
        "dog[\"breed\"] = \"golden retreiver\"\n",
        "dog[\"legs\"] = \"4\"\n",
        "dog[\"age\"] = \"2 maybe?\"\n",
        "print(dog)\n",
        "\n",
        "student = {}\n",
        "student[\"first_name\"] = \"Susritha\"\n",
        "student[\"last_name\"] = \"Sangam\"\n",
        "student[\"gender\"] = \"female\"\n",
        "student[\"age\"] = \"22\"\n",
        "student[\"martial_status\"] = \"single\"\n",
        "student[\"skills\"] = ['cpp', 'c', 'python']\n",
        "student[\"country\"] = \"India\"\n",
        "student[\"city\"] = \"nizambad\"\n",
        "student[\"address\"] = \"telangana\"\n",
        "\n",
        "skills = student.get('skills')\n",
        "print(f'length of student dictonary: {len(student)}')\n",
        "print(f'skills in student dictonary: {skills}, type of skills: {type(skills)}')\n",
        "student['skills'] += ['javascript', 'sql']\n",
        "print(f\"new skills added: {student['skills']}\")\n",
        "print(f\"dictonary keys as list: {list(student.keys())}\")\n",
        "print(f\"dictonary values as list: {list(student.values())}\")"
      ],
      "metadata": {
        "colab": {
          "base_uri": "https://localhost:8080/"
        },
        "id": "ey7Fcr3KLFv1",
        "outputId": "b2a1fd9a-3758-496e-8146-f13f52214cbc"
      },
      "execution_count": null,
      "outputs": [
        {
          "output_type": "stream",
          "name": "stdout",
          "text": [
            "{'name': 'charlie', 'color': 'gold', 'breed': 'golden retreiver', 'legs': '4', 'age': '2 maybe?'}\n",
            "length of student dictonary: 9\n",
            "skills in student dictonary: ['cpp', 'c', 'python'], type of skills: <class 'list'>\n",
            "new skills added: ['cpp', 'c', 'python', 'javascript', 'sql']\n",
            "dictonary keys as list: ['first_name', 'last_name', 'gender', 'age', 'martial_status', 'skills', 'country', 'city', 'address']\n",
            "dictonary values as list: ['Susritha', 'Sangam', 'female', '22', 'single', ['cpp', 'c', 'python', 'javascript', 'sql'], 'India', 'nizambad', 'telangana']\n"
          ]
        }
      ]
    },
    {
      "cell_type": "markdown",
      "source": [
        "3.• Create a tuple containing names of your sisters and your brothers (imaginary siblings are\n",
        "fine)\n",
        "• Join brothers and sisters tuples and assign it to siblings\n",
        "• How many siblings do you have?\n",
        "• Modify the siblings tuple and add the name of your father and mother and assign it to\n",
        "family_members"
      ],
      "metadata": {
        "id": "iHdB5tA1IUBL"
      }
    },
    {
      "cell_type": "code",
      "source": [
        "brothers = ('william', 'max', 'john')\n",
        "sisters = ('rebacca', 'amanda')\n",
        "\n",
        "siblings = brothers + sisters\n",
        "print(f'total siblings: {len(siblings)}')"
      ],
      "metadata": {
        "colab": {
          "base_uri": "https://localhost:8080/"
        },
        "id": "7D2dS9LNMkHI",
        "outputId": "b1698e26-4a04-4a78-cd66-700d1bef9819"
      },
      "execution_count": null,
      "outputs": [
        {
          "output_type": "stream",
          "name": "stdout",
          "text": [
            "total siblings: 5\n"
          ]
        }
      ]
    },
    {
      "cell_type": "markdown",
      "source": [
        "4.it_companies = {'Facebook', 'Google', 'Microsoft', 'Apple', 'IBM', 'Oracle', 'Amazon'}\n",
        "A = {19, 22, 24, 20, 25, 26}\n",
        "B = {19, 22, 20, 25, 26, 24, 28, 27}\n",
        "age = [22, 19, 24, 25, 26, 24, 25, 24]\n",
        "• Find the length of the set it_companies\n",
        "• Add 'Twitter' to it_companies\n",
        "• Insert multiple IT companies at once to the set it_companies\n",
        "• Remove one of the companies from the set it_companies\n",
        "• What is the difference between remove and discard\n",
        "• Join A and B\n",
        "• Find A intersection B\n",
        "• Is A subset of B\n",
        "• Are A and B disjoint sets\n",
        "• Join A with B and B with A\n",
        "• What is the symmetric difference between A and B\n",
        "• Delete the sets completely\n",
        "• Convert the ages to a set and compare the length of the list and the set."
      ],
      "metadata": {
        "id": "ovM_R2G1IUj3"
      }
    },
    {
      "cell_type": "code",
      "source": [
        "it_companies = {'Facebook', 'Google', 'Microsoft', 'Apple', 'IBM', 'Oracle', 'Amazon'}\n",
        "A = {19, 22, 24, 20, 25, 26}\n",
        "B = {19, 22, 20, 25, 26, 24, 28, 27}\n",
        "age = [22, 19, 24, 25, 26, 24, 25, 24]\n",
        "\n",
        "\n",
        "print(f'length of It companies: {len(it_companies)}')\n",
        "\n",
        "\n",
        "it_companies.add('Twitter')\n",
        "print(f'after adding Twitter to IT companies: {it_companies}')\n",
        "\n",
        "it_companies.update(['Zen 3', 'Paypal', 'Red Bus'])\n",
        "print(f'after adding multiple items to IT companies: {it_companies}')\n",
        "\n",
        "\n",
        "it_companies.remove('Paypal')\n",
        "print(f'after removing paypal from IT companies: {it_companies}')\n",
        "\n",
        "\n",
        "# ? Difference between Discard and Remove\n",
        "# * Discard will not throw an error if the item do not exit. Remove will throw an error if the item do not exist\n",
        "\n",
        "C = A.union(B)\n",
        "# A.update(B)\n",
        "print(f'After join of B on A: {C}')\n",
        "\n",
        "intersection = A.intersection(B)\n",
        "print(f'After Intersection of A and B: {intersection}')\n",
        "\n",
        "\n",
        "print(f'is A subset of B?: {A.issubset(B)}')\n",
        "\n",
        "print(f'are A and B disjoint?: {A.isdisjoint(B)}')\n",
        "\n",
        "\n",
        "\n",
        "A_with_B = A.union(B)\n",
        "B_with_A = B.union(A)\n",
        "print(f'join A with B: {A_with_B} and B with A: {B_with_A}')\n",
        "\n",
        "\n",
        "print(f'symmetric difference between A and B: {A.symmetric_difference(B)}')\n",
        "\n",
        "\n",
        "A.clear()\n",
        "print(f'A after deleting: {A}')\n",
        "\n",
        "ages_list = list(age)\n",
        "print(f'length of ages set: {len(age)}, length of ages list: {len(ages_list)}')"
      ],
      "metadata": {
        "colab": {
          "base_uri": "https://localhost:8080/"
        },
        "id": "bTkRK36oM16U",
        "outputId": "48c1c968-33aa-4cdc-81ef-a87e59e4adbb"
      },
      "execution_count": null,
      "outputs": [
        {
          "output_type": "stream",
          "name": "stdout",
          "text": [
            "length of It companies: 7\n",
            "after adding Twitter to IT companies: {'Oracle', 'IBM', 'Twitter', 'Amazon', 'Microsoft', 'Apple', 'Google', 'Facebook'}\n",
            "after adding multiple items to IT companies: {'Oracle', 'Zen 3', 'Red Bus', 'IBM', 'Twitter', 'Amazon', 'Microsoft', 'Apple', 'Paypal', 'Google', 'Facebook'}\n",
            "after removing paypal from IT companies: {'Oracle', 'Zen 3', 'Red Bus', 'IBM', 'Twitter', 'Amazon', 'Microsoft', 'Apple', 'Google', 'Facebook'}\n",
            "After join of B on A: {19, 20, 22, 24, 25, 26, 27, 28}\n",
            "After Intersection of A and B: {19, 20, 22, 24, 25, 26}\n",
            "is A subset of B?: True\n",
            "are A and B disjoint?: False\n",
            "join A with B: {19, 20, 22, 24, 25, 26, 27, 28} and B with A: {19, 20, 22, 24, 25, 26, 27, 28}\n",
            "symmetric difference between A and B: {27, 28}\n",
            "A after deleting: set()\n",
            "length of ages set: 8, length of ages list: 8\n"
          ]
        }
      ]
    },
    {
      "cell_type": "markdown",
      "source": [
        "5.The radius of a circle is 30 meters.\n",
        "• Calculate the area of a circle and assign the value to a variable name of _area_of_circle_\n",
        "• Calculate the circumference of a circle and assign the value to a variable name of\n",
        "_circum_of_circle_\n",
        "• Take radius as user input and calculate the area."
      ],
      "metadata": {
        "id": "nDh1goB3IVOC"
      }
    },
    {
      "cell_type": "code",
      "source": [
        "i_r = 30\n",
        "area_of_circle = 3.14 * i_r * i_r\n",
        "circum_of_circle = 2 * 3.14 * i_r\n",
        "print(f'area with new radius: {area_of_circle}')\n",
        "print(f'circumference with new radius: {circum_of_circle}')\n",
        "\n",
        "\n",
        "i_r = int(input('enter radius: '))\n",
        "print(f'area with new radius: {3.14 * i_r * i_r}')"
      ],
      "metadata": {
        "colab": {
          "base_uri": "https://localhost:8080/"
        },
        "id": "LTc_jZmRMIHL",
        "outputId": "caaba844-23f6-4caf-a410-87779fc1e04f"
      },
      "execution_count": null,
      "outputs": [
        {
          "output_type": "stream",
          "name": "stdout",
          "text": [
            "area with new radius: 2826.0\n",
            "circumference with new radius: 188.4\n",
            "enter radius: 120\n",
            "area with new radius: 45216.0\n"
          ]
        }
      ]
    },
    {
      "cell_type": "markdown",
      "source": [
        "6.“I am a teacher and I love to inspire and teach people”\n",
        "• How many unique words have been used in the sentence? Use the split methods and set\n",
        "to get the unique words."
      ],
      "metadata": {
        "id": "Nirl4jk-IWB2"
      }
    },
    {
      "cell_type": "code",
      "source": [
        "sentence = \"I am a teacher and I love to inspire and teach people\".split(\" \")\n",
        "set_sentence = set()\n",
        "for elem in sentence:\n",
        "    if elem not in set_sentence:\n",
        "        set_sentence.add(elem)\n",
        "    elif elem in set_sentence:\n",
        "        set_sentence.remove(elem)\n",
        "\n",
        "print(f'number of unique items in set: {len(set_sentence)}')"
      ],
      "metadata": {
        "colab": {
          "base_uri": "https://localhost:8080/"
        },
        "id": "mYkAcogBM_yx",
        "outputId": "48127606-4db0-4bd2-9c6e-3c281ba194e5"
      },
      "execution_count": null,
      "outputs": [
        {
          "output_type": "stream",
          "name": "stdout",
          "text": [
            "number of unique items in set: 8\n"
          ]
        }
      ]
    },
    {
      "cell_type": "markdown",
      "source": [
        "7.Use a tab escape sequence to get the following lines.\n",
        "Name Age Country City\n",
        "Asabeneh 250 Finland Helsinki"
      ],
      "metadata": {
        "id": "iSr1GhDyIWxP"
      }
    },
    {
      "cell_type": "code",
      "source": [
        "print('Name\\t\\tAge\\t\\tCountry\\t\\tCity\\nAsabeneh\\t250\\t\\tFinland\\t\\tHelsinki')"
      ],
      "metadata": {
        "colab": {
          "base_uri": "https://localhost:8080/"
        },
        "id": "ODfBAkeaNBgI",
        "outputId": "240b5416-8782-4e0e-892c-ee6cff8d2595"
      },
      "execution_count": null,
      "outputs": [
        {
          "output_type": "stream",
          "name": "stdout",
          "text": [
            "Name\t\tAge\t\tCountry\t\tCity\n",
            "Asabeneh\t250\t\tFinland\t\tHelsinki\n"
          ]
        }
      ]
    },
    {
      "cell_type": "markdown",
      "source": [
        "8.Use the string formatting method to display the following:\n",
        "radius = 10\n",
        "area = 3.14 * radius ** 2\n",
        "“The area of a circle with radius 10 is 314 meters square.”\n"
      ],
      "metadata": {
        "id": "l1nqsf-fIXIt"
      }
    },
    {
      "cell_type": "code",
      "source": [
        "radius = 10\n",
        "area = 3.14 * radius ** 2\n",
        "\n",
        "output = \"The area of a circle with radius {radius} is {area} meters square.\".format(radius = radius, area = int(area))\n",
        "\n",
        "print(output)"
      ],
      "metadata": {
        "colab": {
          "base_uri": "https://localhost:8080/"
        },
        "id": "oD5yUK4rNGHK",
        "outputId": "097684b4-73ff-4bde-95f9-cb5aa7247e84"
      },
      "execution_count": null,
      "outputs": [
        {
          "output_type": "stream",
          "name": "stdout",
          "text": [
            "The area of a circle with radius 10 is 314 meters square.\n"
          ]
        }
      ]
    },
    {
      "cell_type": "markdown",
      "source": [
        "9.Write a program, which reads weights (lbs.) of N students into a list and convert these weights to\n",
        "kilograms in a separate list using Loop. N: No of students (Read input from user)\n",
        "Ex: L1: [150, 155, 145, 148]\n",
        "Output: [68.03, 70.3, 65.77, 67.13]"
      ],
      "metadata": {
        "id": "3nxCV8dJIXwx"
      }
    },
    {
      "cell_type": "code",
      "source": [
        "# 1 lb = 0.45359237 kg \n",
        "L1 = [150, 155, 145, 148]\n",
        "kilos = []\n",
        "for element in L1:\n",
        "    kilos.append(element * 0.45359237)\n",
        "\n",
        "print(f'Lbs in Kilos: {kilos}')"
      ],
      "metadata": {
        "colab": {
          "base_uri": "https://localhost:8080/"
        },
        "id": "5jEuNePANMD1",
        "outputId": "8f327879-f24b-4753-c919-3d854fe697b9"
      },
      "execution_count": null,
      "outputs": [
        {
          "output_type": "stream",
          "name": "stdout",
          "text": [
            "Lbs in Kilos: [68.0388555, 70.30681735, 65.77089365, 67.13167076]\n"
          ]
        }
      ]
    },
    {
      "cell_type": "markdown",
      "source": [
        "10.The diagram below shows a dataset with 2 classes and 8 data points, each with only one feature\n",
        "value, labeled f. Note that there are two data points with the same feature value of 6. These are\n",
        "shown as two x’s one above the other. Provide stepwise mathematical solution, do not write\n",
        "code for it.\n",
        "1. Divide this data equally into two parts. Use first part as training and second part as\n",
        "testing. Using KNN classifier, for K=3, what would be the predicted outputs for the test\n",
        "samples? Show how you arrived at your answer.\n",
        "2. Compute the confusion matrix for this and calculate accuracy, sensitivity and specificity\n",
        "values."
      ],
      "metadata": {
        "id": "zIZRSsZcIYlY"
      }
    }
  ]
}